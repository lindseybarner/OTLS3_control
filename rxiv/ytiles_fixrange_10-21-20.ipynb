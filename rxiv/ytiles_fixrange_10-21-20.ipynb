{
 "cells": [
  {
   "cell_type": "code",
   "execution_count": 1,
   "metadata": {},
   "outputs": [],
   "source": [
    "import ctypes\n",
    "import ctypes.util\n",
    "import numpy\n",
    "import time\n",
    "import math\n",
    "import h5py\n",
    "import warnings\n",
    "import os\n",
    "import os.path\n",
    "import errno\n",
    "import sys\n",
    "import scipy.ndimage\n",
    "import warnings\n",
    "import gc\n",
    "import nidaqmx\n",
    "import os\n",
    "import os.path\n",
    "from os import path"
   ]
  },
  {
   "cell_type": "code",
   "execution_count": null,
   "metadata": {},
   "outputs": [],
   "source": [
    "#Currently, lsfmx defines yTiles such that the maximum y coordinate imaged is typically LESS than the maximum y coordinate specified (indexing error)\n",
    "#Goal is to fix this problem. imaging should cover all coordinates specified by user, and image more coordinates to achieve this if necessary"
   ]
  },
  {
   "cell_type": "markdown",
   "metadata": {},
   "source": [
    "## Current code from lsm20X_LB_run.py"
   ]
  },
  {
   "cell_type": "code",
   "execution_count": 8,
   "metadata": {},
   "outputs": [
    {
     "data": {
      "text/plain": [
       "3"
      ]
     },
     "execution_count": 8,
     "metadata": {},
     "output_type": "execute_result"
    }
   ],
   "source": [
    "int(math.ceil(yLength/yWidth))"
   ]
  },
  {
   "cell_type": "code",
   "execution_count": 11,
   "metadata": {},
   "outputs": [
    {
     "data": {
      "text/plain": [
       "2.8372781065088746"
      ]
     },
     "execution_count": 11,
     "metadata": {},
     "output_type": "execute_result"
    }
   ],
   "source": [
    "yLength/yWidth"
   ]
  },
  {
   "cell_type": "code",
   "execution_count": 19,
   "metadata": {},
   "outputs": [
    {
     "data": {
      "text/plain": [
       "2.3372781065088755"
      ]
     },
     "execution_count": 19,
     "metadata": {},
     "output_type": "execute_result"
    }
   ],
   "source": [
    "(24.56-20.61)/yWidth"
   ]
  },
  {
   "cell_type": "code",
   "execution_count": 17,
   "metadata": {},
   "outputs": [
    {
     "data": {
      "text/plain": [
       "-21.18"
      ]
     },
     "execution_count": 17,
     "metadata": {},
     "output_type": "execute_result"
    }
   ],
   "source": [
    "yMin+2*yWidth"
   ]
  },
  {
   "cell_type": "code",
   "execution_count": 26,
   "metadata": {},
   "outputs": [
    {
     "name": "stdout",
     "output_type": "stream",
     "text": [
      "User-defined ymax = 4.56\n",
      "4.5\n"
     ]
    }
   ],
   "source": [
    "#yMax = 1, but maximum y coordinate imaged is actually 0.777\n",
    "#this is because 1 is technically included in the frame when y = 0.77\n",
    "#but this is not really what the user wants when specifying limits\n",
    "xMin = 7.45#\n",
    "xMax = 10.35 #4.98 #7.78 # #needs to be at least 2mm i think?\n",
    "# ycenter = -14.11\n",
    "yMin = 2.19 #ycenter - .385\n",
    "yMax = 4.56 #-18.72 #-7.31 #-2.73 #ycenter +.7\n",
    "zMin = -2.78 # #zcenter - .01\n",
    "zMax = -2.38 #-3.24 # #zcenter + .01 #if these numbers do not make sense, might get error \"idx was referenced before assignment\" #if these numbers do not make sense, might get error \"idx was referenced before assignment\"\n",
    "\n",
    "#for ECi\n",
    "#Dimensions of FOV\n",
    "xWidth = 0.209 #in um, not mm (2nd gen system 0.48) 300um/1427px   --> 400um/1912px\n",
    "yWidth = 0.385 # mm camera's horizontal FOV\n",
    "zWidth = 0.03 #3 # mm calculated based on 610px/125um 11-20-19(2nd gen system 0.07)this will directly change how far z-strips are placed from each otehr in big stitcher\n",
    "# LB added lines below 1/4/20: User-defined spacing between image tiles to optimize stitching. by default they should be xWidth, yWidth, and zWidth\n",
    "yStitchOverlay = 0.3825 #User-defined spacing between image tiles horizontally, will affect XML file but not imaging\n",
    "zStitchOverlay = .03 #User-defined spacing between image tiles vertically, will affect XML file but not imaging\n",
    " \n",
    "camY = 256 # pixels #\"Z\" direction, vertical in camera's FOV\n",
    "camX = 2048 # pixels \"Y\" direction, horizontal in camera's FOV\n",
    "expTime = 10.0 #4.99 ms\n",
    "camOffset = 0.0 # counts\n",
    "wavelengths = numpy.array([488,660]) # lambda in nm\n",
    "laser_powers = numpy.array([1,2]) #filter 1: 685+ filter 2: LP + single-band filter collects 495-552nm\n",
    "galvoXoffset = 2.82 #in V\n",
    "galvoYoffset = numpy.array([-.92,-.925]) #for 660nm, 488nm respectively. usually these numbers should be the same for 20X imaging\n",
    "\n",
    "galvoXamp = 1.6 # in V. should be 1.5V for 20X imaging\n",
    "galvofreq = 1000 #in Hz. rule of thumb should tune to whatever minimum frequency looks \"smooth\" on the live camera feed\n",
    "binning = '1x1'\n",
    "flatField = 0\n",
    "\n",
    "######### PARAMETERS ###########\n",
    "xMin = xMin - .05 #extra room for safety\n",
    "xMax = xMax + .05\n",
    "#y min = ymin-ywidth/2 and ymax = ymax + ywidth makes it so that it'll tile 1 tile to the left and right of your center\n",
    "yMin = yMin #- yWidth/2 #to account for FOV/2 width not accounted for when estimating tissue bounds, + a little extra\n",
    "yMax = yMax + yWidth #/2\n",
    "\n",
    "xLength = xMax - xMin # mm\n",
    "yLength = yMax - yMin #LB commented math.ceil((yMax - yMin)/yWidth)*yWidth # mm\n",
    "zLength = math.ceil((zMax - zMin)/zWidth)*zWidth # mm\n",
    "volume = xLength*yLength*zLength\n",
    "#Goal with yTiles is to cover whole area that user entered, + image extra if necessary\n",
    "yTiles = int(math.ceil(yLength/yWidth)) #consider adding 1 to this to fix error #previously int(round(yLength/yWidth))\n",
    "zTiles = int(round(zLength/zWidth))\n",
    "nTiles = zTiles*yTiles*len(wavelengths)\n",
    "# print('tissue volume = ' + str(volume) + 'mm^3')\n",
    "# print('number of tiles = ' + str(nTiles))\n",
    "xOff = xMax - (xLength)/2\n",
    "yOff = yMax - yLength/2\n",
    "zOff = zMin\n",
    "nFrames = int(round(xLength/(xWidth/1000))) #number of frames in X direction\n",
    "###want to make sure that structure at center of coordinates will be imaged at center of FOV\n",
    "\n",
    "for j in range(zTiles): \n",
    "    for k in range(yTiles):\n",
    "        for i in range(len(wavelengths)):\n",
    "            idx = k+j*yTiles+i*yTiles*zTiles\n",
    "            # print(idx)\n",
    "            yPos = yOff- yLength/2.0 + k*yWidth #+ yWidth/2.0\n",
    "#             print('y = ' + str(yPos))\n",
    "            zPos = j*zWidth + zOff\n",
    "            # print('z = ' + str(zPos))\n",
    "print('User-defined ymax = ' + str(yMax - yWidth))       \n",
    "print(yPos)"
   ]
  },
  {
   "cell_type": "markdown",
   "metadata": {},
   "source": [
    "## testing"
   ]
  },
  {
   "cell_type": "code",
   "execution_count": 13,
   "metadata": {},
   "outputs": [
    {
     "name": "stdout",
     "output_type": "stream",
     "text": [
      "tissue volume = 0.616011mm^3\n",
      "number of tiles = 48\n",
      "y = -22.55\n",
      "y = -22.55\n",
      "y = -22.165\n",
      "y = -22.165\n",
      "y = -21.78\n",
      "y = -21.78\n",
      "y = -21.395\n",
      "y = -21.395\n",
      "y = -21.01\n",
      "y = -21.01\n",
      "y = -20.625\n",
      "y = -20.625\n",
      "y = -20.240000000000002\n",
      "y = -20.240000000000002\n",
      "y = -19.855\n",
      "y = -19.855\n",
      "y = -19.47\n",
      "y = -19.47\n",
      "y = -19.085\n",
      "y = -19.085\n",
      "y = -18.7\n",
      "y = -18.7\n",
      "y = -18.315\n",
      "y = -18.315\n",
      "y = -22.55\n",
      "y = -22.55\n",
      "y = -22.165\n",
      "y = -22.165\n",
      "y = -21.78\n",
      "y = -21.78\n",
      "y = -21.395\n",
      "y = -21.395\n",
      "y = -21.01\n",
      "y = -21.01\n",
      "y = -20.625\n",
      "y = -20.625\n",
      "y = -20.240000000000002\n",
      "y = -20.240000000000002\n",
      "y = -19.855\n",
      "y = -19.855\n",
      "y = -19.47\n",
      "y = -19.47\n",
      "y = -19.085\n",
      "y = -19.085\n",
      "y = -18.7\n",
      "y = -18.7\n",
      "y = -18.315\n",
      "y = -18.315\n"
     ]
    }
   ],
   "source": [
    "#yMax = 1, but maximum y coordinate imaged is actually 0.777\n",
    "#this is because 1 is technically included in the frame when y = 0.77\n",
    "#but this is not really what the user wants when specifying limits\n",
    "xMin = -9.60#\n",
    "xMax = -7.28 #4.98 #7.78 # #needs to be at least 2mm i think?\n",
    "# ycenter = -14.11\n",
    "yMin = -22.55 #ycenter - .385\n",
    "yMax = -18.50 #\n",
    "zMin = -2.37 # #zcenter - .01\n",
    "zMax = -2.34 #-3.24 # #zcenter + .01 #if these numbers do not make sense, might get error \"idx was referenced before assignment\" #if these numbers do not make sense, might get error \"idx was referenced before assignment\"\n",
    "\n",
    "#for ECi\n",
    "#Dimensions of FOV\n",
    "xWidth = 0.209 #in um, not mm (2nd gen system 0.48) 300um/1427px   --> 400um/1912px\n",
    "yWidth = 0.385 # mm camera's horizontal FOV\n",
    "zWidth = 0.03 #3 # mm calculated based on 610px/125um 11-20-19(2nd gen system 0.07)this will directly change how far z-strips are placed from each otehr in big stitcher\n",
    "# LB added lines below 1/4/20: User-defined spacing between image tiles to optimize stitching. by default they should be xWidth, yWidth, and zWidth\n",
    "yStitchOverlay = 0.3825 #User-defined spacing between image tiles horizontally, will affect XML file but not imaging\n",
    "zStitchOverlay = .03 #User-defined spacing between image tiles vertically, will affect XML file but not imaging\n",
    " \n",
    "camY = 256 # pixels #\"Z\" direction, vertical in camera's FOV\n",
    "camX = 2048 # pixels \"Y\" direction, horizontal in camera's FOV\n",
    "expTime = 10.0 #4.99 ms\n",
    "camOffset = 0.0 # counts\n",
    "wavelengths = numpy.array([488,660]) # lambda in nm\n",
    "laser_powers = numpy.array([1,2]) #filter 1: 685+ filter 2: LP + single-band filter collects 495-552nm\n",
    "galvoXoffset = 2.82 #in V\n",
    "galvoYoffset = numpy.array([-.92,-.925]) #for 660nm, 488nm respectively. usually these numbers should be the same for 20X imaging\n",
    "\n",
    "galvoXamp = 1.6 # in V. should be 1.5V for 20X imaging\n",
    "galvofreq = 1000 #in Hz. rule of thumb should tune to whatever minimum frequency looks \"smooth\" on the live camera feed\n",
    "binning = '1x1'\n",
    "flatField = 0\n",
    "\n",
    "######### PARAMETERS ###########\n",
    "xMin = xMin - .05 #extra room for safety\n",
    "xMax = xMax + .05\n",
    "#y min = ymin-ywidth/2 and ymax = ymax + ywidth makes it so that it'll tile 1 tile to the left and right of your center\n",
    "yMin = yMin #- yWidth/2 #to account for FOV/2 width not accounted for when estimating tissue bounds, + a little extra\n",
    "yMax = yMax + yWidth/2\n",
    "\n",
    "xLength = xMax - xMin # mm\n",
    "yLength = yMax - yMin #LB commented math.ceil((yMax - yMin)/yWidth)*yWidth # mm\n",
    "zLength = math.ceil((zMax - zMin)/zWidth)*zWidth # mm\n",
    "volume = xLength*yLength*zLength\n",
    "#Goal with yTiles is to cover whole area that user entered, + image extra if necessary\n",
    "yTiles = int(math.ceil(yLength/yWidth)) #consider adding 1 to this to fix error #previously int(round(yLength/yWidth))\n",
    "zTiles = int(round(zLength/zWidth))\n",
    "nTiles = zTiles*yTiles*len(wavelengths)\n",
    "print('tissue volume = ' + str(volume) + 'mm^3')\n",
    "print('number of tiles = ' + str(nTiles))\n",
    "xOff = xMax - (xLength)/2\n",
    "yOff = yMax - yLength/2\n",
    "zOff = zMin\n",
    "nFrames = int(round(xLength/(xWidth/1000))) #number of frames in X direction\n",
    "###want to make sure that structure at center of coordinates will be imaged at center of FOV\n",
    "\n",
    "for j in range(zTiles): \n",
    "    for k in range(yTiles):\n",
    "        for i in range(len(wavelengths)):\n",
    "            idx = k+j*yTiles+i*yTiles*zTiles\n",
    "            # print(idx)\n",
    "            yPos = yOff- yLength/2.0 + k*yWidth #+ yWidth/2.0\n",
    "            print('y = ' + str(yPos))\n",
    "            zPos = j*zWidth + zOff\n",
    "            # print('z = ' + str(zPos))"
   ]
  },
  {
   "cell_type": "code",
   "execution_count": 11,
   "metadata": {},
   "outputs": [
    {
     "data": {
      "text/plain": [
       "2.5974025974025974"
      ]
     },
     "execution_count": 11,
     "metadata": {},
     "output_type": "execute_result"
    }
   ],
   "source": [
    "yLength/yWidth"
   ]
  }
 ],
 "metadata": {
  "kernelspec": {
   "display_name": "Python 3",
   "language": "python",
   "name": "python3"
  },
  "language_info": {
   "codemirror_mode": {
    "name": "ipython",
    "version": 3
   },
   "file_extension": ".py",
   "mimetype": "text/x-python",
   "name": "python",
   "nbconvert_exporter": "python",
   "pygments_lexer": "ipython3",
   "version": "3.7.4"
  }
 },
 "nbformat": 4,
 "nbformat_minor": 4
}
