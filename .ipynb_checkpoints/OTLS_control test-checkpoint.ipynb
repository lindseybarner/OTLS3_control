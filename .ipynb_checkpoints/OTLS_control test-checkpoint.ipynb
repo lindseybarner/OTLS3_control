{
 "cells": [
  {
   "cell_type": "markdown",
   "id": "continental-lecture",
   "metadata": {},
   "source": [
    "## lsm-python-main"
   ]
  },
  {
   "cell_type": "code",
   "execution_count": 1,
   "id": "peripheral-today",
   "metadata": {},
   "outputs": [],
   "source": [
    "import lsmfx\n",
    "import json\n",
    "import shutil\n",
    "import hardware.laser as ls\n",
    "import hivex_puck as puck\n",
    "\n",
    "# import static parameters\n",
    "with open('static_params.json', 'r') as read_file:\n",
    "    static_params = json.load(read_file)\n",
    "\n",
    "camera_dict = static_params['camera']\n",
    "experiment_dict = static_params['experiment']\n",
    "daq_dict = static_params['daq']\n",
    "laser_dict = static_params['laser']\n",
    "wheel_dict = static_params['wheel']\n",
    "stage_dict = static_params['stage']\n",
    "image_wells = static_params['image_wells']\n",
    "\n",
    "\n",
    "# ------ Set user-defined paramters ------ #\n",
    "\n",
    "# CAMERA PARAMETERS\n",
    "camera_dict['expTime'] = 10.0  # ms\n",
    "\n",
    "# B3D compression. 0.0 = off, 1.0 = standard compression\n",
    "camera_dict['quantSigma'] = {'405': 1.0,\n",
    "                             '488': 1.0,\n",
    "                             '561': 1.0,\n",
    "                             '660': 1.0}\n",
    "\n",
    "# FILE PARAMETERS\n",
    "experiment_dict['drive'] = 'E'\n",
    "experiment_dict['fname'] = 'test_file'  # file name\n",
    "\n",
    "# ROI PARAMETERS\n",
    "# experiment_dict = puck.well(12, experiment_dict)\n",
    "experiment_dict['xMin'] = 18.22 # mm\n",
    "experiment_dict['xMax'] = 22.08  # mm\n",
    "experiment_dict['yMin'] = -10.68  # mm\n",
    "experiment_dict['yMax'] = -7.25 # mm\n",
    "experiment_dict['zMin'] = -0.93  # mm\n",
    "experiment_dict['zMax'] = -0.90  # mm\n",
    "\n",
    "# set experiment wavelenths here, power in mW\n",
    "experiment_dict['wavelengths'] = {'660': 2.0}\n",
    "\n",
    "experiment_dict['attenuations'] = {'405': 1.4,\n",
    "                                   '488': 1.4,\n",
    "                                   '561': 1.4,\n",
    "                                   '660': 1.4}\n",
    "\n",
    "# X Galvo\n",
    "daq_dict['xmin'] = {'405': 2.75 - 1.90,\n",
    "                    '488': 2.75 - 1.90,\n",
    "                    '561': 2.75 - 1.90,\n",
    "                    '660': 2.75 - 1.90}\n",
    "\n",
    "daq_dict['xmax'] = {'405': 2.75 + 1.90,\n",
    "                    '488': 2.75 + 1.90,\n",
    "                    '561': 2.75 + 1.90,\n",
    "                    '660': 2.75 + 1.90}\n",
    "\n",
    "daq_dict['xpp'] = {'405': 2,\n",
    "                   '488': 2,\n",
    "                   '561': 2,\n",
    "                   '660': 2}\n",
    "\n",
    "# Y Galvo\n",
    "daq_dict['ymin'] = {'405': -1.17,\n",
    "                    '488': -1.17,\n",
    "                    '561': -1.17,\n",
    "                    '660': -1.17}\n",
    "\n",
    "daq_dict['ymax'] = {'405': -1.17,\n",
    "                    '488': -1.17,\n",
    "                    '561': -1.17,\n",
    "                    '660': -1.17}\n",
    "\n",
    "daq_dict['ypp'] = {'405': 0.0,\n",
    "                   '488': 0.0,\n",
    "                   '561': 0.0,\n",
    "                   '660': 0.0}\n",
    "\n",
    "# construct objects\n",
    "cameraObj = lsmfx.camera(camera_dict)\n",
    "experimentObj = lsmfx.experiment(experiment_dict)\n",
    "daqObj = lsmfx.daq(daq_dict)\n",
    "etlObj = []\n",
    "laserObj = ls.laser(laser_dict)\n",
    "wheelObj = lsmfx.wheel(wheel_dict)\n",
    "stageObj = lsmfx.stage(stage_dict)\n",
    "\n",
    "# Begin scanning\n",
    "# lsmfx.scan3D(experimentObj, cameraObj, daqObj, laserObj, wheelObj, etlObj, stageObj)"
   ]
  },
  {
   "cell_type": "markdown",
   "id": "dental-genome",
   "metadata": {},
   "source": [
    "## lsmfx"
   ]
  },
  {
   "cell_type": "code",
   "execution_count": 2,
   "id": "endangered-definition",
   "metadata": {},
   "outputs": [],
   "source": [
    "import numpy as np\n",
    "import math\n",
    "import h5py\n",
    "import os.path\n",
    "import skimage.transform\n",
    "# # import pco\n",
    "# import hardware.hamamatsu as hc\n",
    "# Tiger or MS2000 are imported below based on stage model param\n",
    "import hardware.ni as ni\n",
    "import hardware.fw102c as fw102c\n",
    "import hardware.laser as laser\n",
    "import hardware.skyra as skyra\n",
    "import hardware.obis as obis\n",
    "from hardware.opto import Opto\n",
    "import time as timer\n",
    "import h5\n",
    "\n",
    "\n",
    "class experiment(object):\n",
    "    def __init__(self, experiment_dict):\n",
    "        self.drive = experiment_dict['drive']\n",
    "        self.fname = experiment_dict['fname']\n",
    "        self.xMin = experiment_dict['xMin']\n",
    "        self.xMax = experiment_dict['xMax']\n",
    "        self.yMin = experiment_dict['yMin']\n",
    "        self.yMax = experiment_dict['yMax']\n",
    "        self.zMin = experiment_dict['zMin']\n",
    "        self.zMax = experiment_dict['zMax']\n",
    "        self.xWidth = experiment_dict['xWidth']\n",
    "        self.yWidth = experiment_dict['yWidth']\n",
    "        self.zWidth = experiment_dict['zWidth']\n",
    "        self.wavelengths = experiment_dict['wavelengths']\n",
    "        # self.powers = powers\n",
    "        self.attenuations = experiment_dict['attenuations']\n",
    "        self.theta = experiment_dict['theta']\n",
    "        self.overlapY = experiment_dict['overlapY']\n",
    "        self.overlapZ = experiment_dict['overlapZ']"
   ]
  },
  {
   "cell_type": "code",
   "execution_count": 3,
   "id": "stainless-program",
   "metadata": {},
   "outputs": [],
   "source": [
    "class scan(object):\n",
    "    def __init__(self, experiment, camera):\n",
    "\n",
    "        self.xLength = experiment.xMax - experiment.xMin  # mm\n",
    "        self.yLength = round((experiment.yMax - experiment.yMin) /\n",
    "                             experiment.yWidth) * experiment.yWidth  # mm\n",
    "        self.zLength = round((experiment.zMax - experiment.zMin) /\n",
    "                             experiment.zWidth) * experiment.zWidth  # mm\n",
    "        self.xOff = experiment.xMax - self.xLength/2\n",
    "        self.yOff = experiment.yMax - self.yLength/2\n",
    "        self.zOff = experiment.zMin\n",
    "        self.nFrames = int(np.floor(self.xLength/(experiment.xWidth/1000.0)))\n",
    "        self.nWavelengths = len(experiment.wavelengths)\n",
    "        self.yTiles = int(round(self.yLength/experiment.yWidth))\n",
    "        self.zTiles = int(round(self.zLength/experiment.zWidth))\n",
    "\n",
    "        # setup scan speed and chunk sizes\n",
    "        self.scanSpeed = self.setScanSpeed(experiment.xWidth, camera.expTime)\n",
    "        self.chunkSize1 = 256\n",
    "        if self.chunkSize1 >= self.nFrames/8:\n",
    "            self.chunkSize1 = np.floor(self.nFrames/8)\n",
    "\n",
    "        self.chunkSize2 = 16\n",
    "\n",
    "        if self.chunkSize2 >= camera.Y/8:\n",
    "            self.chunkSize2 = np.floor(camera.Y/8)\n",
    "\n",
    "        self.chunkSize3 = 256\n",
    "        if self.chunkSize3 >= camera.X/8:\n",
    "            self.chunkSize3 = np.floor(camera.X/8)\n",
    "\n",
    "        self.blockSize = int(2*self.chunkSize1)\n",
    "\n",
    "    def setScanSpeed(self, xWidth, expTime):\n",
    "\n",
    "        speed = xWidth/(1.0/(1.0/((expTime + 10.0e-3)/1000.0))*1000.0)\n",
    "        return speed\n",
    "\n",
    "\n",
    "# TODO: Change name to camera_settings\n",
    "class camera(object):\n",
    "    def __init__(self, camera_dict):\n",
    "        self.number = camera_dict['number']\n",
    "        self.X = camera_dict['X']\n",
    "        self.Y = camera_dict['Y']\n",
    "        self.sampling = camera_dict['sampling']\n",
    "        self.expTime = camera_dict['expTime']\n",
    "        self.triggerMode = camera_dict['triggerMode']\n",
    "        self.acquireMode = camera_dict['acquireMode']\n",
    "        self.shutterMode = camera_dict['shutterMode']\n",
    "        self.compressionMode = camera_dict['compressionMode']\n",
    "        self.B3Denv = camera_dict['B3Denv']\n",
    "        self.quantSigma = camera_dict['quantSigma']\n",
    "        self.camtype = camera_dict['type']\n",
    "\n",
    "    def initialize(self, camera_dict):\n",
    "        if self.camtype == 'pco':\n",
    "            cam = pco.Camera(camera_number=self.number)\n",
    "\n",
    "            cam.configuration = {'exposure time': self.expTime*1.0e-3,\n",
    "                                 'roi': (1,\n",
    "                                         1023-round(self.Y/2),\n",
    "                                         2060,\n",
    "                                         1026+round(self.Y/2)),\n",
    "                                 'trigger': self.triggerMode,\n",
    "                                 'acquire': self.acquireMode,\n",
    "                                 'pixel rate': 272250000}\n",
    "\n",
    "            cam.record(number_of_images=self.nFrames, mode='sequence non blocking')\n",
    "\n",
    "            ring_buffer = np.zeros((session.blockSize,\n",
    "                                   self.Y,\n",
    "                                   self.X),\n",
    "                                   dtype=np.uint16)\n",
    "            return cam\n",
    "\n",
    "\n",
    "class daq(object):\n",
    "    def __init__(self,\n",
    "                 daq_dict):\n",
    "\n",
    "        self.rate = daq_dict['rate']\n",
    "        self.board = daq_dict['board']\n",
    "        # self.name = daq_dict['name']\n",
    "        self.num_channels = daq_dict['num_channels']\n",
    "        self.names_to_channels = daq_dict['names_to_channels']\n",
    "\n",
    "        self.xmin = daq_dict['xmin']\n",
    "        self.xmax = daq_dict['xmax']\n",
    "        self.xpp = daq_dict['xpp']\n",
    "        self.ymin = daq_dict['ymin']\n",
    "        self.ymax = daq_dict['ymax']\n",
    "        self.ypp = daq_dict['ypp']\n",
    "\n",
    "\n",
    "class etl(object):\n",
    "    def __init__(self,\n",
    "                 etl_dict):\n",
    "        self.port = etl_dict['port']\n",
    "\n",
    "\n",
    "class wheel(object):\n",
    "    def __init__(self,\n",
    "                 wheel_dict):\n",
    "        self.port = wheel_dict['port']\n",
    "        self.rate = wheel_dict['rate']\n",
    "        self.names_to_channels = wheel_dict['names_to_channels']\n",
    "\n",
    "\n",
    "class stage(object):\n",
    "    def __init__(self,\n",
    "                 stage_dict):\n",
    "        self.port = stage_dict['port']\n",
    "        self.rate = stage_dict['rate']\n",
    "        self.model = stage_dict['model']\n",
    "\n",
    "        # Should check the velocity and acceration, I think this\n",
    "        # really shouldn't be part of the init since it's set to different\n",
    "        # values in various places\n",
    "        self.settings = {'backlash': 0.0,\n",
    "                         'velocity': 1.0,\n",
    "                         'acceleration': 100\n",
    "                         }\n",
    "        self.axes = ('X', 'Y', 'Z')\n",
    "\n",
    "    def initialize(self):\n",
    "\n",
    "        if self.model == 'tiger':\n",
    "            print('initializing stage: Tiger')\n",
    "            import hardware.tiger as tiger\n",
    "            xyzStage = tiger.TIGER(baudrate=self.rate, port=self.port)\n",
    "            xyzStage.setPLCPreset(6, 52)\n",
    "\n",
    "        elif self.model == 'ms2000':\n",
    "            print('initializing stage: MS2000')\n",
    "            import hardware.ms2000 as ms2000\n",
    "            xyzStage = ms2000.MS2000(baudrate=self.rate, port=self.port)\n",
    "            xyzStage.setTTL('Y', 3)\n",
    "\n",
    "        else:\n",
    "            raise Exception('invalid stage type!')\n",
    "\n",
    "        initialPos = xyzStage.getPosition()\n",
    "        xyzStage.setScanF(1)\n",
    "        for ax in self.axes:\n",
    "            xyzStage.setBacklash(ax, self.settings['backlash'])\n",
    "            xyzStage.setVelocity(ax, self.settings['velocity'])\n",
    "            xyzStage.setAcceleration(ax, self.settings['acceleration'])\n",
    "        print('stage initialized', initialPos)\n",
    "        return xyzStage, initialPos\n"
   ]
  },
  {
   "cell_type": "code",
   "execution_count": 4,
   "id": "stunning-mineral",
   "metadata": {},
   "outputs": [],
   "source": [
    "experiment = experimentObj\n",
    "camera = cameraObj\n",
    "daq = daqObj\n",
    "laser = laserObj \n",
    "wheel = wheelObj\n",
    "etl = etlObj\n",
    "stage = stageObj"
   ]
  },
  {
   "cell_type": "code",
   "execution_count": 6,
   "id": "stuck-bridge",
   "metadata": {},
   "outputs": [],
   "source": [
    "image_wells['option'] = 'yes'"
   ]
  },
  {
   "cell_type": "code",
   "execution_count": 8,
   "id": "illegal-ballet",
   "metadata": {},
   "outputs": [],
   "source": [
    "experiment.fname += '_well_N'"
   ]
  },
  {
   "cell_type": "code",
   "execution_count": 28,
   "id": "random-nelson",
   "metadata": {},
   "outputs": [],
   "source": [
    "N_string = str(experiment.fname).split('_')[-1]\n",
    "substring = str(experiment.fname)"
   ]
  },
  {
   "cell_type": "code",
   "execution_count": 45,
   "id": "lovely-gazette",
   "metadata": {},
   "outputs": [],
   "source": []
  },
  {
   "cell_type": "code",
   "execution_count": 46,
   "id": "imperial-emission",
   "metadata": {},
   "outputs": [
    {
     "data": {
      "text/plain": [
       "'test_file_well_2'"
      ]
     },
     "execution_count": 46,
     "metadata": {},
     "output_type": "execute_result"
    }
   ],
   "source": [
    "experiment.fname"
   ]
  },
  {
   "cell_type": "code",
   "execution_count": 18,
   "id": "black-quarterly",
   "metadata": {},
   "outputs": [
    {
     "data": {
      "text/plain": [
       "['test', 'file', 'well', 'N']"
      ]
     },
     "execution_count": 18,
     "metadata": {},
     "output_type": "execute_result"
    }
   ],
   "source": [
    "experiment.fname.split('_')"
   ]
  },
  {
   "cell_type": "code",
   "execution_count": null,
   "id": "neither-magnet",
   "metadata": {},
   "outputs": [],
   "source": [
    "    if image_wells['option'] == 'yes':\n",
    "        experiment.fname += '_well_N' ## re-format file name for well-based imaging\n",
    "\n",
    "        for well_number in image_wells['well_numbers']:\n",
    "experiment = puck.well(well_number, experiment) ## Define imaging coordinates for this well\n",
    "experiment.fname.split('_')[-1] = str(well_number)  # Adjust file name\n"
   ]
  },
  {
   "cell_type": "code",
   "execution_count": 29,
   "id": "prime-madness",
   "metadata": {},
   "outputs": [
    {
     "name": "stdout",
     "output_type": "stream",
     "text": [
      "-10.522499999999999\n",
      "-10.1375\n",
      "-9.7525\n",
      "-9.3675\n",
      "-8.9825\n",
      "-8.597499999999998\n",
      "-8.212499999999999\n",
      "-7.8275\n",
      "-7.4425\n"
     ]
    }
   ],
   "source": [
    "session = scan(experiment, camera)\n",
    "# print('made ring buffer')\n",
    "tile = 0\n",
    "previous_tile_time = 0\n",
    "previous_ram = 0\n",
    "\n",
    "start_time = timer.time()\n",
    "xPos = session.xLength/2.0 - session.xOff\n",
    "for j in range(session.zTiles):\n",
    "    zPos = j*experiment.zWidth + session.zOff\n",
    "    for k in range(session.yTiles):\n",
    "        yPos = session.yOff - session.yLength / 2.0 + \\\n",
    "            k*experiment.yWidth + experiment.yWidth / 2.0\n",
    "        for ch in range(session.nWavelengths):\n",
    "            wave_str = list(experiment.wavelengths)[ch]\n",
    "            xPos = session.xLength/2.0 - session.xOff\n",
    "            print(yPos)"
   ]
  },
  {
   "cell_type": "code",
   "execution_count": null,
   "id": "biblical-education",
   "metadata": {},
   "outputs": [],
   "source": []
  },
  {
   "cell_type": "code",
   "execution_count": 6,
   "id": "married-construction",
   "metadata": {},
   "outputs": [],
   "source": [
    "# # hcam.shutdown()\n",
    "# # etl.close(soft_close=True)\n",
    "# # waveformGenerator.counter_task.close()\n",
    "# # waveformGenerator.ao_task.close()\n",
    "# xyzStage.shutDown()\n",
    "# # skyraLaser.shutDown()\n",
    "# fWheel.shutDown()"
   ]
  },
  {
   "cell_type": "code",
   "execution_count": 6,
   "id": "suited-theater",
   "metadata": {
    "scrolled": false
   },
   "outputs": [
    {
     "name": "stdout",
     "output_type": "stream",
     "text": [
      "<lsmfx.experiment object at 0x0000022A8C0FE548>\n",
      "made session\n",
      "initializing stage: MS2000\n",
      "stage initialized [24.4078, 9.824, -1.9439000000000002]\n",
      "<hardware.ms2000.MS2000 object at 0x0000022A8C149B08>\n",
      "Writing BigDataViewer XML file...\n",
      "[0.0, 82.5]\n",
      "nframes = 5361\n",
      "max camera backlog was: 0\n",
      "finish code to write voltages in DAQ\n",
      "Starting tile 1 / 2\n",
      "y position: 9.823642999999999 mm\n",
      "z position: -2.0 mm\n",
      "laser on\n",
      "5360/5361 frames collected...\n",
      "max camera backlog was: 812\n",
      "Tile time: 2.067 min\n",
      "Estimated time remaining:  0.034  hrs\n",
      "finish code to write voltages in DAQ\n",
      "Starting tile 2 / 2\n",
      "y position: 9.823642999999999 mm\n",
      "z position: -1.943669140149908 mm\n",
      "laser on\n",
      "5360/5361 frames collected...\n",
      "max camera backlog was: 840\n",
      "Tile time: 2.093 min\n",
      "Total time =  0.07  hrs\n"
     ]
    }
   ],
   "source": [
    "# def scan3D(experiment, camera, daq, laser, wheel, etl, stage):\n",
    "\n",
    "print(experiment)\n",
    "# ROUND SCAN DIMENSIONS & SETUP IMAGING SESSION\n",
    "session = scan(experiment, camera)\n",
    "\n",
    "print('made session')\n",
    "\n",
    "# SETUP DATA DIRECTORY\n",
    "## Remove directory before creating\n",
    "# shutil.rmtree(experimentObj.drive + ':\\\\' + experimentObj.fname)\n",
    "os.makedirs(experiment.drive + ':\\\\' + experiment.fname)\n",
    "dest = experiment.drive + ':\\\\' + experiment.fname + '\\\\data.h5'\n",
    "\n",
    "#  CONNECT XYZ STAGE\n",
    "xyzStage, initialPos = stage.initialize()\n",
    "print(xyzStage)\n",
    "\n",
    "#  INITIALIZE H5 FILE\n",
    "h5.h5init(dest, camera, session, experiment)\n",
    "h5.write_xml(experiment=experiment, camera=camera, scan=session)\n",
    "\n",
    "# CONNECT NIDAQ\n",
    "waveformGenerator = ni.waveformGenerator(daq=daq,\n",
    "                                         camera=camera,\n",
    "                                         triggered=False)\n",
    "\n",
    "# CONNECT LASER\n",
    "\n",
    "# according to the manual, you should wait for 2min after setting\n",
    "# laser 1 (561) to mod mode for power to stabalize. Consider adding this in\n",
    "# TODO: disentangle laser and experiment attributes\n",
    "\n",
    "# Laser = laser.initialize(experiment, session) ## For Cobolt on OTLS-4\n",
    "Laser = dict()\n",
    "for ch in range(session.nWavelengths):\n",
    "    wave_str = list(experiment.wavelengths)[ch]\n",
    "    Laser[wave_str] = laser.initialize(experiment, session, laserObj.models[wave_str], laserObj.ports[wave_str])\n",
    "\n",
    "# CONNECT FILTER WHEEL\n",
    "\n",
    "fWheel = fw102c.FW102C(baudrate=wheel.rate, port=wheel.port)\n",
    "\n",
    "# CONNECT CAMERA\n",
    "# cam = camera.initialize(camera)\n",
    "hcam = hc.HamamatsuCameraMR(camera_id=0)\n",
    "\n",
    "# Set camera properties\n",
    "hcam.setPropertyValue(\"defect_correct_mode\", \"OFF\") # keep defect mode on\n",
    "hcam.setPropertyValue(\"readout_speed\", 2) # 1 or 2. 2 is fastest mode\n",
    "hcam.setPropertyValue(\"exposure_time\", camera.expTime/1000.0) # convert from msec to sec\n",
    "hcam.setPropertyValue(\"subarray_hsize\", camera.X)\n",
    "hcam.setPropertyValue(\"subarray_vsize\", camera.Y)\n",
    "hcam.setPropertyValue(\"subarray_vpos\", 1024-camera.Y/2)\n",
    "hcam.setPropertyValue(\"binning\", 1) #binFactor)\n",
    "\n",
    "# Set trigger properties\n",
    "hcam.setPropertyValue(\"trigger_source\", 'INTERNAL') # 1 (internal), 2 (external), 3 (software)\n",
    "hcam.setPropertyValue(\"trigger_mode\", 'START') # 1 (normal), 6 (start)\n",
    "hcam.setPropertyValue(\"trigger_active\", 'EDGE') # 1 (edge), 2 (level), 3 (syncreadout)\n",
    "hcam.setPropertyValue(\"trigger_polarity\", 'POSITIVE') # 1 (negative), 2 (positive)\n",
    "print('nframes = ' + str(session.nFrames))\n",
    "hcam.setACQMode(\"fixed_length\", session.nFrames)\n",
    "\n",
    "\n",
    "# print('made ring buffer')\n",
    "tile = 0\n",
    "previous_tile_time = 0\n",
    "previous_ram = 0\n",
    "\n",
    "start_time = timer.time()\n",
    "\n",
    "xPos = session.xLength/2.0 - session.xOff\n",
    "\n",
    "for j in range(session.zTiles):\n",
    "\n",
    "    zPos = j*experiment.zWidth + session.zOff\n",
    "    xyzStage.setVelocity('Z', 0.1)\n",
    "    xyzStage.goAbsolute('Z', zPos, False)\n",
    "\n",
    "    for k in range(session.yTiles):\n",
    "\n",
    "        yPos = session.yOff - session.yLength / 2.0 + \\\n",
    "            k*experiment.yWidth + experiment.yWidth / 2.0\n",
    "\n",
    "        xyzStage.setVelocity('Y', 1.0)\n",
    "        xyzStage.goAbsolute('Y', yPos, False)\n",
    "\n",
    "        for ch in range(session.nWavelengths):\n",
    "\n",
    "            wave_str = list(experiment.wavelengths)[ch]\n",
    "            # wave_str is wavelength in nm as a string, e.g. '488'\n",
    "\n",
    "            # ch is order of wavelenghts in main (an integer 0 -> X)\n",
    "            #   (NOT necessarily Skyra channel number)\n",
    "\n",
    "            xyzStage.setVelocity('X', 1.0)\n",
    "            xPos = session.xLength/2.0 - session.xOff\n",
    "            xyzStage.goAbsolute('X', -xPos, False)\n",
    "\n",
    "            # CHANGE FILTER\n",
    "\n",
    "            fWheel.setPosition(wheel.names_to_channels[wave_str])\n",
    "\n",
    "            # START SCAN\n",
    "            Laser[wave_str].setPower(experiment.wavelengths[wave_str]) ## Set power of laser\n",
    "            # skyraLaser.setModulationHighCurrent(laser.names_to_channels[wave_str],\n",
    "            #     experiment.wavelengths[wave_str] / np.exp(-j*experiment.zWidth / experiment.attenuations[wave_str]))\n",
    "            print('finish code to write voltages in DAQ')\n",
    "            # voltages, rep_time = write_voltages(daq=daq,\n",
    "            #                                     laser=laser,\n",
    "            #                                     camera=camera,\n",
    "            #                                     experiment=experiment,\n",
    "            #                                     ch=ch)\n",
    "\n",
    "            # waveformGenerator.ao_task.write(voltages)\n",
    "\n",
    "            print('Starting tile ' + str((tile)*session.nWavelengths+ch+1),\n",
    "                  '/',\n",
    "                  str(session.nWavelengths*session.zTiles*session.yTiles))\n",
    "            print('y position: ' + str(yPos) + ' mm')\n",
    "            print('z position: ' + str(zPos) + ' mm')\n",
    "            tile_start_time = timer.time()\n",
    "\n",
    "            xyzStage.setScanR(-xPos, -xPos + session.xLength)\n",
    "            xyzStage.setScanV(yPos)\n",
    "\n",
    "            response = xyzStage.getMotorStatus()\n",
    "            while response[0] == 'B':\n",
    "                response = xyzStage.getMotorStatus()\n",
    "\n",
    "            xyzStage.setVelocity('X', session.scanSpeed)\n",
    "            xyzStage.setVelocity('Y', session.scanSpeed)\n",
    "            xyzStage.setVelocity('Z', session.scanSpeed)\n",
    "\n",
    "            waveformGenerator.ao_task.start()\n",
    "            # cam.start() ## For pco camera\n",
    "            hcam.startAcquisition() ## For hamamatsu camera\n",
    "            xyzStage.scan(False)\n",
    "            \n",
    "            ##Turn on laser\n",
    "            Laser[wave_str].turnOn()\n",
    "#             skyraLaser.turnOn(laser.names_to_channels[list(experiment.wavelengths)[ch]])\n",
    "\n",
    "            # CAPTURE IMAGES\n",
    "            count_old = 0\n",
    "            count_new = 0\n",
    "            count = 0\n",
    "            im = np.zeros((session.nFrames, camera.Y, camera.X), dtype = 'uint16') #\n",
    "\n",
    "            #after this loop, im.shape = (direction of X scan, direction of vertical FOV, direction of horizontal FOV) i.e. (X, Z, Y)\n",
    "            while count < session.nFrames-1:\n",
    "                timer.sleep(0.01)\n",
    "                # Get frames.\n",
    "#                 print('getting frames')\n",
    "                [frames, dims] = hcam.getFrames()\n",
    "                count_old = count\n",
    "                # Save frames.\n",
    "                for aframe in frames:\n",
    "                    np_data = aframe.getData()\n",
    "                    im[count] = np.reshape(np_data, (camera.Y, camera.X)) #orient so camera's vertical FOV is row direction\n",
    "                    count += 1\n",
    "                count_new = count\n",
    "                \n",
    "                if count_new != 0 and count_new == count_old:\n",
    "                    count = session.nFrames #reached last frame in scan\n",
    "                    print('Acquired last frame')\n",
    "                    \n",
    "            \n",
    "#             skyraLaser.turnOff(list(experiment.wavelengths)[ch]) ## for Skyra\n",
    "            Laser[wave_str].turnOff() #For obis laser\n",
    "                    \n",
    "            print(str(count_new) + '/' + str(session.nFrames) + ' frames collected...')\n",
    "\n",
    "            # START IMAGING LOOP\n",
    "            h5.h5write(dest,im, tile + session.zTiles*session.yTiles*ch, 0, count_new)\n",
    "\n",
    "            waveformGenerator.ao_task.stop()\n",
    "#             waveformGenerator.write_zeros(daq=daq)\n",
    "            # For some reason this write_zeros works but the above doesn't?\n",
    "            # laser stops and starts appropriately with this one active\n",
    "            # and the top write_zeros() commented out\n",
    "\n",
    "            \n",
    "            # cam.stop() ## for pco camera\n",
    "            hcam.stopAcquisition() #for hamamatsu camera\n",
    "\n",
    "            tile_end_time = timer.time()\n",
    "            tile_time = tile_end_time - tile_start_time\n",
    "            print('Tile time: ' + str(round((tile_time/60), 3)) + \" min\")\n",
    "            tiles_remaining = session.nWavelengths * session.zTiles * \\\n",
    "                session.yTiles - (tile * session.nWavelengths + ch + 1)\n",
    "\n",
    "            if tiles_remaining != 0:\n",
    "                print('Estimated time remaining: ',\n",
    "                      str(round((tile_time*tiles_remaining/3600), 3)),\n",
    "                      \" hrs\")\n",
    "\n",
    "        tile += 1\n",
    "\n",
    "end_time = timer.time()\n",
    "\n",
    "print(\"Total time = \",\n",
    "      str(round((end_time - start_time)/3600, 3)),\n",
    "      \" hrs\")\n",
    "\n",
    "response = xyzStage.getMotorStatus()\n",
    "while response[0] == 'B':\n",
    "    response = xyzStage.getMotorStatus()\n",
    "\n",
    "hcam.shutdown()\n",
    "# cam.close() ## For PCO camera\n",
    "# etl.close(soft_close=True)\n",
    "# waveformGenerator.counter_task.close()\n",
    "waveformGenerator.ao_task.close()\n",
    "xyzStage.shutDown()\n",
    "# Laser.shutDown() ## For cobolt\n",
    "for ch in range(session.nWavelengths): ## For OTLS-3\n",
    "    wave_str = list(experiment.wavelengths)[ch]\n",
    "    Laser[wave_str].shutDown()\n",
    "fWheel.shutDown()\n"
   ]
  },
  {
   "cell_type": "markdown",
   "id": "bearing-glenn",
   "metadata": {},
   "source": [
    "## Write voltages"
   ]
  },
  {
   "cell_type": "code",
   "execution_count": null,
   "id": "fluid-husband",
   "metadata": {},
   "outputs": [],
   "source": [
    "self.task.timing.cfg_samp_clk_timing(rate = self.rate, sample_mode = constants.AcquisitionType.CONTINUOUS, samps_per_chan= self.samples)"
   ]
  },
  {
   "cell_type": "code",
   "execution_count": 5,
   "id": "premium-shuttle",
   "metadata": {},
   "outputs": [],
   "source": [
    "experiment = experimentObj\n",
    "camera = cameraObj\n",
    "daq = daqObj\n",
    "laser = laserObj \n",
    "wheel = wheelObj\n",
    "etl = etlObj\n",
    "stage = stageObj"
   ]
  },
  {
   "cell_type": "code",
   "execution_count": 9,
   "id": "first-donor",
   "metadata": {
    "scrolled": true
   },
   "outputs": [
    {
     "name": "stdout",
     "output_type": "stream",
     "text": [
      "2.75\n",
      "1.0\n",
      "-1.17\n",
      "0.0\n"
     ]
    }
   ],
   "source": [
    "# convert max / min / peak-to-peak (DAQExpress convention)\n",
    "# to offset / amplitude\n",
    "wave_key = '660'\n",
    "xoffset = (daq.xmax[wave_key] + daq.xmin[wave_key]) / 2\n",
    "xamplitude = daq.xpp[wave_key] / 2\n",
    "yoffset = (daq.ymax[wave_key] + daq.ymin[wave_key]) / 2\n",
    "yamplitude = daq.ypp[wave_key] / 2\n",
    "print(xoffset)\n",
    "print(xamplitude)\n",
    "print(yoffset)\n",
    "print(yamplitude)"
   ]
  },
  {
   "cell_type": "code",
   "execution_count": 10,
   "id": "ancient-midnight",
   "metadata": {},
   "outputs": [],
   "source": [
    "ch = 0"
   ]
  },
  {
   "cell_type": "code",
   "execution_count": 37,
   "id": "interracial-logging",
   "metadata": {},
   "outputs": [
    {
     "name": "stderr",
     "output_type": "stream",
     "text": [
      "C:\\ProgramData\\Anaconda3\\lib\\site-packages\\ipykernel_launcher.py:66: RuntimeWarning: divide by zero encountered in true_divide\n"
     ]
    }
   ],
   "source": [
    "# def write_voltages(daq,\n",
    "#                    laser,\n",
    "#                    camera,\n",
    "#                    experiment,\n",
    "#                    ch):\n",
    "\n",
    "n2c = daq.names_to_channels\n",
    "wave_key = list(experiment.wavelengths)[ch]  # wavelength as a string\n",
    "\n",
    "# convert max / min / peak-to-peak (DAQExpress convention)\n",
    "# to offset / amplitude\n",
    "xoffset = (daq.xmax[wave_key] + daq.xmin[wave_key]) / 2\n",
    "xamplitude = daq.xpp[wave_key] / 2\n",
    "yoffset = (daq.ymax[wave_key] + daq.ymin[wave_key]) / 2\n",
    "yamplitude = daq.ypp[wave_key] / 2\n",
    "\n",
    "samples = int(daq.rate*camera.expTime/1e3)  # number of samples for DAQ\n",
    "\n",
    "line_time = 9.76/1.0e6  # seconds, constant for pco.edge camera\n",
    "roll_time = line_time*camera.Y/2.0  # chip rolling time in seconds\n",
    "roll_samples = int(np.floor(roll_time*daq.rate))  # rolling samples\n",
    "\n",
    "on_time = camera.expTime/1e3 - roll_time  # ON time for strobing laser\n",
    "on_samples = int(np.floor(on_time*daq.rate))  # ON samples\n",
    "\n",
    "galvo_time = 365/1.0e6  # galvo delay time\n",
    "galvo_samples = int(np.floor(galvo_time*daq.rate))\n",
    "\n",
    "buffer_time = 50/1.0e6\n",
    "buffer_samples = int(np.floor(buffer_time*daq.rate))\n",
    "\n",
    "voltages = np.zeros((daq.num_channels, samples))  # create voltages array\n",
    "\n",
    "# X Galvo scanning:\n",
    "period_samples = np.linspace(0, 2 * math.pi, on_samples + 2 * buffer_samples)\n",
    "snap_back = np.linspace(xoffset + xamplitude,\n",
    "                        xoffset - xamplitude,\n",
    "                        samples - on_samples - 2 * buffer_samples)\n",
    "voltages[n2c['xgalvo'], :] = xoffset\n",
    "voltages[n2c['xgalvo'],\n",
    "         roll_samples - galvo_samples - buffer_samples:\n",
    "         roll_samples + on_samples - galvo_samples + buffer_samples] = \\\n",
    "    -2 * (xamplitude / math.pi) * \\\n",
    "    np.arctan(1.0 / (np.tan(period_samples / 2.0))) + xoffset\n",
    "voltages[n2c['xgalvo'],\n",
    "         roll_samples + on_samples - galvo_samples + buffer_samples:\n",
    "         samples] = \\\n",
    "    snap_back[0:samples - (roll_samples + on_samples - galvo_samples +\n",
    "              buffer_samples)]\n",
    "voltages[n2c['xgalvo'],\n",
    "         0:roll_samples - galvo_samples - buffer_samples] = \\\n",
    "    snap_back[samples - (roll_samples + on_samples - galvo_samples +\n",
    "              buffer_samples):samples]\n",
    "\n",
    "# Y Galvo scanning:\n",
    "period_samples = np.linspace(0,\n",
    "                             2 * math.pi, on_samples + 2 * buffer_samples)\n",
    "snap_back = np.linspace(yoffset + yamplitude,\n",
    "                        yoffset - yamplitude,\n",
    "                        samples - on_samples - 2 * buffer_samples)\n",
    "voltages[n2c['ygalvo'], :] = yoffset\n",
    "voltages[n2c['ygalvo'],\n",
    "         roll_samples - galvo_samples - buffer_samples:\n",
    "         roll_samples + on_samples-galvo_samples + buffer_samples] = \\\n",
    "    -2 * (yamplitude / math.pi) * \\\n",
    "    np.arctan(1.0 / (np.tan(period_samples / 2.0))) + yoffset\n",
    "voltages[n2c['ygalvo'],\n",
    "         roll_samples + on_samples - galvo_samples + buffer_samples:\n",
    "         samples] = \\\n",
    "    snap_back[0:samples - (roll_samples + on_samples - galvo_samples +\n",
    "              buffer_samples)]\n",
    "voltages[n2c['ygalvo'],\n",
    "         0:roll_samples - galvo_samples - buffer_samples] = \\\n",
    "    snap_back[samples - (roll_samples + on_samples - galvo_samples +\n",
    "              buffer_samples):samples]\n",
    "\n",
    "\n",
    "# Check final voltages for sanity\n",
    "# Assert that voltages are safe\n",
    "assert (1.0/(1.0/on_time)) <= 800.0\n",
    "assert np.max(voltages[n2c['xgalvo'], :]) <= 5.0\n",
    "assert np.min(voltages[n2c['xgalvo'], :]) >= -5.0\n",
    "assert np.max(voltages[n2c['ygalvo'], :]) <= 5.0\n",
    "assert np.min(voltages[n2c['ygalvo'], :]) >= -5.0\n",
    "\n",
    "#     return voltages, (camera.expTime/1e3-2*roll_time)*1000\n",
    "\n"
   ]
  },
  {
   "cell_type": "code",
   "execution_count": 18,
   "id": "continuous-nickname",
   "metadata": {},
   "outputs": [
    {
     "name": "stderr",
     "output_type": "stream",
     "text": [
      "C:\\ProgramData\\Anaconda3\\lib\\site-packages\\ipykernel_launcher.py:11: RuntimeWarning: divide by zero encountered in true_divide\n",
      "  # This is added back by InteractiveShellApp.init_path()\n"
     ]
    }
   ],
   "source": [
    "# X Galvo scanning:\n",
    "period_samples = np.linspace(0, 2 * math.pi, on_samples + 2 * buffer_samples)\n",
    "snap_back = np.linspace(xoffset + xamplitude,\n",
    "                        xoffset - xamplitude,\n",
    "                        samples - on_samples - 2 * buffer_samples)\n",
    "voltages[n2c['xgalvo'], :] = xoffset\n",
    "voltages[n2c['xgalvo'], roll_samples - galvo_samples - buffer_samples:\n",
    "         roll_samples + on_samples - galvo_samples + buffer_samples] = \\\n",
    "    -2 * (xamplitude / math.pi) * np.arctan(1.0 / (np.tan(period_samples / 2.0))) + xoffset\n",
    "voltages[n2c['xgalvo'],\n",
    "         roll_samples + on_samples - galvo_samples + buffer_samples:\n",
    "         samples] = \\\n",
    "    snap_back[0:samples - (roll_samples + on_samples - galvo_samples +\n",
    "              buffer_samples)]\n",
    "voltages[n2c['xgalvo'],\n",
    "         0:roll_samples - galvo_samples - buffer_samples] = \\\n",
    "    snap_back[samples - (roll_samples + on_samples - galvo_samples +\n",
    "              buffer_samples):samples]"
   ]
  },
  {
   "cell_type": "code",
   "execution_count": 37,
   "id": "sealed-beauty",
   "metadata": {},
   "outputs": [],
   "source": [
    "waveformGenerator.ao_task.stop()"
   ]
  },
  {
   "cell_type": "code",
   "execution_count": 29,
   "id": "incorrect-northwest",
   "metadata": {},
   "outputs": [],
   "source": [
    "# waveformGenerator = ni.waveformGenerator(daq=daq,\n",
    "#                                          camera=camera,\n",
    "#                                          triggered=False)\n",
    "# waveformGenerator.ao_task.write(voltages)\n",
    "a = timer.time()\n",
    "waveformGenerator.ao_task.start()"
   ]
  },
  {
   "cell_type": "code",
   "execution_count": 38,
   "id": "electrical-heaven",
   "metadata": {},
   "outputs": [],
   "source": [
    "waveformGenerator.ao_task.close()"
   ]
  },
  {
   "cell_type": "code",
   "execution_count": 30,
   "id": "level-recovery",
   "metadata": {},
   "outputs": [],
   "source": [
    "b = timer.time()"
   ]
  },
  {
   "cell_type": "code",
   "execution_count": 36,
   "id": "complicated-moderator",
   "metadata": {},
   "outputs": [
    {
     "data": {
      "text/plain": [
       "10.0"
      ]
     },
     "execution_count": 36,
     "metadata": {},
     "output_type": "execute_result"
    }
   ],
   "source": [
    "samples*1e3/(daq.rate)"
   ]
  },
  {
   "cell_type": "code",
   "execution_count": null,
   "id": "celtic-animation",
   "metadata": {},
   "outputs": [],
   "source": [
    "def zero_voltages(daq, camera):\n",
    "    # samples = int(daq.rate*camera.expTime/1e3)  # number of samples for DAQ\n",
    "    voltages = np.zeros((daq.num_channels, 2))  # create voltages array\n",
    "    return voltages"
   ]
  },
  {
   "cell_type": "markdown",
   "id": "raising-section",
   "metadata": {},
   "source": [
    "## ni_LB method"
   ]
  },
  {
   "cell_type": "code",
   "execution_count": 39,
   "id": "sufficient-century",
   "metadata": {},
   "outputs": [],
   "source": [
    "import numpy as np\n",
    "import math"
   ]
  },
  {
   "cell_type": "code",
   "execution_count": 40,
   "id": "amended-olympus",
   "metadata": {},
   "outputs": [],
   "source": [
    "freq = 1000\n",
    "rate = 100000\n",
    "samples = 1\n",
    "time = np.linspace(0, 2*math.pi, round(rate/freq))"
   ]
  },
  {
   "cell_type": "code",
   "execution_count": 28,
   "id": "brown-religion",
   "metadata": {},
   "outputs": [],
   "source": [
    "samples = 5.0*np.sin(time)"
   ]
  },
  {
   "cell_type": "code",
   "execution_count": 8,
   "id": "discrete-college",
   "metadata": {},
   "outputs": [],
   "source": [
    "import nidaqmx\n",
    "from nidaqmx import stream_writers\n",
    "from nidaqmx import constants"
   ]
  },
  {
   "cell_type": "code",
   "execution_count": 9,
   "id": "partial-chamber",
   "metadata": {},
   "outputs": [],
   "source": [
    "ao_task = nidaqmx.Task(\"ao0\")"
   ]
  },
  {
   "cell_type": "code",
   "execution_count": 20,
   "id": "stuck-kernel",
   "metadata": {},
   "outputs": [
    {
     "ename": "DaqError",
     "evalue": "Physical channel specified does not exist on this device.\n\nRefer to the documentation for channels available on this device.\nDevice: Dev1\nPhysical Channel Name: ao4\n\nTask Name: ao0\n\nStatus Code: -200170",
     "output_type": "error",
     "traceback": [
      "\u001b[1;31m---------------------------------------------------------------------------\u001b[0m",
      "\u001b[1;31mDaqError\u001b[0m                                  Traceback (most recent call last)",
      "\u001b[1;32m<ipython-input-20-ca74d3dc69ae>\u001b[0m in \u001b[0;36m<module>\u001b[1;34m\u001b[0m\n\u001b[1;32m----> 1\u001b[1;33m \u001b[0mao_task\u001b[0m\u001b[1;33m.\u001b[0m\u001b[0mao_channels\u001b[0m\u001b[1;33m.\u001b[0m\u001b[0madd_ao_voltage_chan\u001b[0m\u001b[1;33m(\u001b[0m\u001b[0mphysical_channel\u001b[0m \u001b[1;33m=\u001b[0m \u001b[1;34m'/Dev1/ao4'\u001b[0m\u001b[1;33m)\u001b[0m\u001b[1;33m\u001b[0m\u001b[1;33m\u001b[0m\u001b[0m\n\u001b[0m",
      "\u001b[1;32mC:\\ProgramData\\Anaconda3\\lib\\site-packages\\nidaqmx\\_task_modules\\ao_channel_collection.py\u001b[0m in \u001b[0;36madd_ao_voltage_chan\u001b[1;34m(self, physical_channel, name_to_assign_to_channel, min_val, max_val, units, custom_scale_name)\u001b[0m\n\u001b[0;32m    189\u001b[0m             \u001b[0mself\u001b[0m\u001b[1;33m.\u001b[0m\u001b[0m_handle\u001b[0m\u001b[1;33m,\u001b[0m \u001b[0mphysical_channel\u001b[0m\u001b[1;33m,\u001b[0m \u001b[0mname_to_assign_to_channel\u001b[0m\u001b[1;33m,\u001b[0m\u001b[1;33m\u001b[0m\u001b[1;33m\u001b[0m\u001b[0m\n\u001b[0;32m    190\u001b[0m             min_val, max_val, units.value, custom_scale_name)\n\u001b[1;32m--> 191\u001b[1;33m         \u001b[0mcheck_for_error\u001b[0m\u001b[1;33m(\u001b[0m\u001b[0merror_code\u001b[0m\u001b[1;33m)\u001b[0m\u001b[1;33m\u001b[0m\u001b[1;33m\u001b[0m\u001b[0m\n\u001b[0m\u001b[0;32m    192\u001b[0m \u001b[1;33m\u001b[0m\u001b[0m\n\u001b[0;32m    193\u001b[0m         \u001b[1;32mreturn\u001b[0m \u001b[0mself\u001b[0m\u001b[1;33m.\u001b[0m\u001b[0m_create_chan\u001b[0m\u001b[1;33m(\u001b[0m\u001b[0mphysical_channel\u001b[0m\u001b[1;33m,\u001b[0m \u001b[0mname_to_assign_to_channel\u001b[0m\u001b[1;33m)\u001b[0m\u001b[1;33m\u001b[0m\u001b[1;33m\u001b[0m\u001b[0m\n",
      "\u001b[1;32mC:\\ProgramData\\Anaconda3\\lib\\site-packages\\nidaqmx\\errors.py\u001b[0m in \u001b[0;36mcheck_for_error\u001b[1;34m(error_code)\u001b[0m\n\u001b[0;32m    125\u001b[0m         \u001b[0mcfunc\u001b[0m\u001b[1;33m(\u001b[0m\u001b[0merror_buffer\u001b[0m\u001b[1;33m,\u001b[0m \u001b[1;36m2048\u001b[0m\u001b[1;33m)\u001b[0m\u001b[1;33m\u001b[0m\u001b[1;33m\u001b[0m\u001b[0m\n\u001b[0;32m    126\u001b[0m \u001b[1;33m\u001b[0m\u001b[0m\n\u001b[1;32m--> 127\u001b[1;33m         \u001b[1;32mraise\u001b[0m \u001b[0mDaqError\u001b[0m\u001b[1;33m(\u001b[0m\u001b[0merror_buffer\u001b[0m\u001b[1;33m.\u001b[0m\u001b[0mvalue\u001b[0m\u001b[1;33m.\u001b[0m\u001b[0mdecode\u001b[0m\u001b[1;33m(\u001b[0m\u001b[1;34m\"utf-8\"\u001b[0m\u001b[1;33m)\u001b[0m\u001b[1;33m,\u001b[0m \u001b[0merror_code\u001b[0m\u001b[1;33m)\u001b[0m\u001b[1;33m\u001b[0m\u001b[1;33m\u001b[0m\u001b[0m\n\u001b[0m\u001b[0;32m    128\u001b[0m \u001b[1;33m\u001b[0m\u001b[0m\n\u001b[0;32m    129\u001b[0m     \u001b[1;32melif\u001b[0m \u001b[0merror_code\u001b[0m \u001b[1;33m>\u001b[0m \u001b[1;36m0\u001b[0m\u001b[1;33m:\u001b[0m\u001b[1;33m\u001b[0m\u001b[1;33m\u001b[0m\u001b[0m\n",
      "\u001b[1;31mDaqError\u001b[0m: Physical channel specified does not exist on this device.\n\nRefer to the documentation for channels available on this device.\nDevice: Dev1\nPhysical Channel Name: ao4\n\nTask Name: ao0\n\nStatus Code: -200170"
     ]
    }
   ],
   "source": [
    "ao_task.ao_channels.add_ao_voltage_chan(physical_channel = '/Dev1/ao4')"
   ]
  },
  {
   "cell_type": "code",
   "execution_count": 21,
   "id": "hairy-stadium",
   "metadata": {},
   "outputs": [
    {
     "data": {
      "text/plain": [
       "4"
      ]
     },
     "execution_count": 21,
     "metadata": {},
     "output_type": "execute_result"
    }
   ],
   "source": [
    "ao_task.number_of_channels"
   ]
  },
  {
   "cell_type": "code",
   "execution_count": 24,
   "id": "acquired-athens",
   "metadata": {
    "scrolled": true
   },
   "outputs": [
    {
     "ename": "TypeError",
     "evalue": "'Timing' object is not callable",
     "output_type": "error",
     "traceback": [
      "\u001b[1;31m---------------------------------------------------------------------------\u001b[0m",
      "\u001b[1;31mTypeError\u001b[0m                                 Traceback (most recent call last)",
      "\u001b[1;32m<ipython-input-24-ca2885cd694f>\u001b[0m in \u001b[0;36m<module>\u001b[1;34m\u001b[0m\n\u001b[1;32m----> 1\u001b[1;33m \u001b[0mao_task\u001b[0m\u001b[1;33m.\u001b[0m\u001b[0mtiming\u001b[0m\u001b[1;33m(\u001b[0m\u001b[1;33m)\u001b[0m\u001b[1;33m\u001b[0m\u001b[1;33m\u001b[0m\u001b[0m\n\u001b[0m",
      "\u001b[1;31mTypeError\u001b[0m: 'Timing' object is not callable"
     ]
    }
   ],
   "source": [
    "ao_task.timing()"
   ]
  }
 ],
 "metadata": {
  "kernelspec": {
   "display_name": "Python 3",
   "language": "python",
   "name": "python3"
  },
  "language_info": {
   "codemirror_mode": {
    "name": "ipython",
    "version": 3
   },
   "file_extension": ".py",
   "mimetype": "text/x-python",
   "name": "python",
   "nbconvert_exporter": "python",
   "pygments_lexer": "ipython3",
   "version": "3.7.9"
  }
 },
 "nbformat": 4,
 "nbformat_minor": 5
}
